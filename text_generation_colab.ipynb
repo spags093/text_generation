{
  "nbformat": 4,
  "nbformat_minor": 0,
  "metadata": {
    "colab": {
      "name": "text_generation_colab.ipynb",
      "provenance": [],
      "machine_shape": "hm",
      "authorship_tag": "ABX9TyNlGs/ObKHGUWJELm3v7at4",
      "include_colab_link": true
    },
    "kernelspec": {
      "name": "python3",
      "display_name": "Python 3"
    },
    "accelerator": "TPU"
  },
  "cells": [
    {
      "cell_type": "markdown",
      "metadata": {
        "id": "view-in-github",
        "colab_type": "text"
      },
      "source": [
        "<a href=\"https://colab.research.google.com/github/spags093/text_generation/blob/main/text_generation_colab.ipynb\" target=\"_parent\"><img src=\"https://colab.research.google.com/assets/colab-badge.svg\" alt=\"Open In Colab\"/></a>"
      ]
    },
    {
      "cell_type": "markdown",
      "metadata": {
        "id": "-FO5mV8aoI_y"
      },
      "source": [
        "# Text Generation Project"
      ]
    },
    {
      "cell_type": "markdown",
      "metadata": {
        "id": "5dj-MBOkoSMi"
      },
      "source": [
        "Runtime of several cells in Jupyter was wayyyy too long so we're moving this project over to colab to take advantage of the high-ram runtime.  Let's see how this goes. "
      ]
    },
    {
      "cell_type": "markdown",
      "metadata": {
        "id": "MGiIFCWSoctR"
      },
      "source": [
        "## Abstract\n",
        "This is where I will write an abstract one day.  Someday.  Probably.  "
      ]
    },
    {
      "cell_type": "markdown",
      "metadata": {
        "id": "ljx4c8yXokWd"
      },
      "source": [
        "## Introduction"
      ]
    },
    {
      "cell_type": "markdown",
      "metadata": {
        "id": "hOuyB_z3om1H"
      },
      "source": [
        "In this project, we'll be building a text generator that will be able to generate fake Amazon product reviews that will, hopefully, be indistinguishable from normal, everyday reviews left by actual human beings. This is, by no means, meant to be for fraudulent uses. This is an excercise in generating believable text and we were fortunate enough to have a large dataset of Amazon reviews to experiement with."
      ]
    },
    {
      "cell_type": "markdown",
      "metadata": {
        "id": "6qKqC4vIo5MV"
      },
      "source": [
        "### Environment Check"
      ]
    },
    {
      "cell_type": "code",
      "metadata": {
        "colab": {
          "base_uri": "https://localhost:8080/"
        },
        "id": "lN4lqk6Eo4ZL",
        "outputId": "46743328-cc0f-4a18-99fb-deda841ccd4e"
      },
      "source": [
        "# Checking the ram usage\n",
        "\n",
        "from psutil import virtual_memory\n",
        "ram_gb = virtual_memory().total / 1e9\n",
        "print('This runtime has {:.1f} gigabytes of available RAM\\n'.format(ram_gb))\n",
        "\n",
        "if ram_gb < 20:\n",
        "  print('To enable a high-RAM runtime, select the Runtime → \"Change runtime type\"')\n",
        "  print('menu, and then select High-RAM in the Runtime shape dropdown. Then, ')\n",
        "  print('re-execute this cell.')\n",
        "else:\n",
        "  print('This notebook is using a high level of RAM.')"
      ],
      "execution_count": 1,
      "outputs": [
        {
          "output_type": "stream",
          "text": [
            "This runtime has 38.0 gigabytes of available RAM\n",
            "\n",
            "This notebook is using a high level of RAM.\n"
          ],
          "name": "stdout"
        }
      ]
    },
    {
      "cell_type": "markdown",
      "metadata": {
        "id": "ofTCbQnror7c"
      },
      "source": [
        "### Imports"
      ]
    },
    {
      "cell_type": "code",
      "metadata": {
        "colab": {
          "base_uri": "https://localhost:8080/"
        },
        "id": "HBJY-X9IlmmA",
        "outputId": "4de120f7-b5a8-4735-ed2a-dea9f316d8c5"
      },
      "source": [
        "# The usuals\n",
        "import pandas as pd\n",
        "import numpy as np\n",
        "import matplotlib.pyplot as plt\n",
        "%matplotlib inline\n",
        "import seaborn as sns\n",
        "import os\n",
        "import sys\n",
        "import re\n",
        "\n",
        "# NLTK stuff\n",
        "import nltk\n",
        "nltk.download('stopwords')\n",
        "from nltk.tokenize import RegexpTokenizer\n",
        "from nltk.corpus import stopwords\n",
        "\n",
        "# Tensorflow stuff\n",
        "from tensorflow.keras.models import Sequential\n",
        "from tensorflow.keras.layers import Dense, Dropout, LSTM\n",
        "from tensorflow.python.keras import utils\n",
        "from tensorflow.keras.callbacks import ModelCheckpoint"
      ],
      "execution_count": 2,
      "outputs": [
        {
          "output_type": "stream",
          "text": [
            "[nltk_data] Downloading package stopwords to /root/nltk_data...\n",
            "[nltk_data]   Unzipping corpora/stopwords.zip.\n"
          ],
          "name": "stdout"
        }
      ]
    },
    {
      "cell_type": "markdown",
      "metadata": {
        "id": "bKE6n5L2ovKU"
      },
      "source": [
        "### Functions"
      ]
    },
    {
      "cell_type": "code",
      "metadata": {
        "id": "GBt7sB1fowZl"
      },
      "source": [
        "# File Path Functions\n",
        "def print_dir_contents(fpath = None):\n",
        "    '''Prints the contents of a provided filepath.  Default is current directory.\n",
        "  \n",
        "    Args:\n",
        "        fpath (str): File path of directory.\n",
        "    \n",
        "    Returns: \n",
        "        Print of contents of folder\n",
        "    '''\n",
        "\n",
        "    if fpath is None:\n",
        "        fpath = os.path.abspath(os.curdir)\n",
        "\n",
        "    print(f\"Contents of Folder: '{fpath}':\")\n",
        "    files = sorted(os.listdir(fpath))\n",
        "    tab = '\\n\\t'\n",
        "    print('\\t' + tab.join(files))\n",
        "\n",
        "# NLP Functions\n",
        "def remove_url(text):\n",
        "    url = re.compile(r'https?://\\S+|www\\.\\S+')\n",
        "    return url.sub(r\"\", text)\n",
        "\n",
        "\n",
        "def remove_n(text):\n",
        "    n = re.compile(r'\\n')\n",
        "    return n.sub(r'', text)\n",
        "\n",
        "\n",
        "def remove_emoji(string):\n",
        "    emoji_pattern = re.compile(pattern = \n",
        "    \"[\"\n",
        "    u\"\\U0001F600-\\U0001F64F\"  # emoticons\n",
        "    u\"\\U0001F300-\\U0001F5FF\"  # symbols & pictographs\n",
        "    u\"\\U0001F680-\\U0001F6FF\"  # transport & map symbols\n",
        "    u\"\\U0001F1E0-\\U0001F1FF\"  # flags (iOS)\n",
        "    \"]+\",\n",
        "    flags = re.UNICODE\n",
        "    )\n",
        "    return emoji_pattern.sub(r\"\", string)\n",
        "\n",
        "\n",
        "def clean_text(text_column):\n",
        "    text_column = text_column.apply(lambda x: remove_url(x))\n",
        "    text_column = text_column.apply(lambda x: remove_n(x))\n",
        "    text_column = text_column.apply(lambda x: remove_emoji(x))\n",
        "    return text_column"
      ],
      "execution_count": 3,
      "outputs": []
    },
    {
      "cell_type": "markdown",
      "metadata": {
        "id": "_Ns-fBNmpLw2"
      },
      "source": [
        "## Obtain"
      ]
    },
    {
      "cell_type": "markdown",
      "metadata": {
        "id": "PW1AizZzpgYa"
      },
      "source": [
        "### Importing Dataset From Google Drive"
      ]
    },
    {
      "cell_type": "code",
      "metadata": {
        "colab": {
          "base_uri": "https://localhost:8080/"
        },
        "id": "0uYSRgjqpMab",
        "outputId": "099f3f20-2d69-4086-f2d0-871f1de43b59"
      },
      "source": [
        "# Mount google drive\n",
        "from google.colab import drive\n",
        "drive.mount('/gdrive', force_remount = True)"
      ],
      "execution_count": 4,
      "outputs": [
        {
          "output_type": "stream",
          "text": [
            "Mounted at /gdrive\n"
          ],
          "name": "stdout"
        }
      ]
    },
    {
      "cell_type": "code",
      "metadata": {
        "colab": {
          "base_uri": "https://localhost:8080/"
        },
        "id": "Q-EdTuOGpKUL",
        "outputId": "65e5be6d-554f-4e97-bff3-c4f0cdd98b3f"
      },
      "source": [
        "# Getting current directory and contents\n",
        "print(os.getcwd())\n",
        "print(os.listdir())"
      ],
      "execution_count": 5,
      "outputs": [
        {
          "output_type": "stream",
          "text": [
            "/content\n",
            "['.config', 'sample_data']\n"
          ],
          "name": "stdout"
        }
      ]
    },
    {
      "cell_type": "code",
      "metadata": {
        "colab": {
          "base_uri": "https://localhost:8080/"
        },
        "id": "6F67ScShpuEE",
        "outputId": "34449ee3-bde5-46ac-aee2-0acf207c7c3a"
      },
      "source": [
        "# Changing the directory to the parent folder\n",
        "os.chdir('../')\n",
        "print(os.getcwd())\n",
        "print(os.listdir())"
      ],
      "execution_count": 6,
      "outputs": [
        {
          "output_type": "stream",
          "text": [
            "/\n",
            "['run', 'bin', 'root', 'lib', 'sys', 'etc', 'media', 'dev', 'proc', 'srv', 'sbin', 'home', 'boot', 'mnt', 'usr', 'lib64', 'tmp', 'var', 'opt', 'gdrive', '.dockerenv', 'tools', 'datalab', 'swift', 'tensorflow-1.15.2', 'content', 'lib32']\n"
          ],
          "name": "stdout"
        }
      ]
    },
    {
      "cell_type": "code",
      "metadata": {
        "colab": {
          "base_uri": "https://localhost:8080/",
          "height": 52
        },
        "id": "vzsyjG0qp72_",
        "outputId": "761b8dde-2b06-4879-d942-acf111fe828a"
      },
      "source": [
        "# Function to print the file path\n",
        "def print_path(return_ = False):\n",
        "  '''Prints the current directory.'''\n",
        "  path = os.path.abspath(os.curdir)\n",
        "  print('Current Directory = ', path)\n",
        "  if return_:\n",
        "    return path\n",
        "\n",
        "print_path(return_ = True)"
      ],
      "execution_count": 7,
      "outputs": [
        {
          "output_type": "stream",
          "text": [
            "Current Directory =  /\n"
          ],
          "name": "stdout"
        },
        {
          "output_type": "execute_result",
          "data": {
            "application/vnd.google.colaboratory.intrinsic+json": {
              "type": "string"
            },
            "text/plain": [
              "'/'"
            ]
          },
          "metadata": {
            "tags": []
          },
          "execution_count": 7
        }
      ]
    },
    {
      "cell_type": "code",
      "metadata": {
        "colab": {
          "base_uri": "https://localhost:8080/"
        },
        "id": "mcvd3s7zqBt3",
        "outputId": "441ea198-737d-4e0b-eda3-9ebcd4e80913"
      },
      "source": [
        "# Checking out the contents of the directory.\n",
        "\n",
        "print_dir_contents()"
      ],
      "execution_count": 8,
      "outputs": [
        {
          "output_type": "stream",
          "text": [
            "Contents of Folder: '/':\n",
            "\t.dockerenv\n",
            "\tbin\n",
            "\tboot\n",
            "\tcontent\n",
            "\tdatalab\n",
            "\tdev\n",
            "\tetc\n",
            "\tgdrive\n",
            "\thome\n",
            "\tlib\n",
            "\tlib32\n",
            "\tlib64\n",
            "\tmedia\n",
            "\tmnt\n",
            "\topt\n",
            "\tproc\n",
            "\troot\n",
            "\trun\n",
            "\tsbin\n",
            "\tsrv\n",
            "\tswift\n",
            "\tsys\n",
            "\ttensorflow-1.15.2\n",
            "\ttmp\n",
            "\ttools\n",
            "\tusr\n",
            "\tvar\n"
          ],
          "name": "stdout"
        }
      ]
    },
    {
      "cell_type": "code",
      "metadata": {
        "colab": {
          "base_uri": "https://localhost:8080/"
        },
        "id": "QFYf5HiuqEHo",
        "outputId": "07286e62-ca06-41e7-cdc4-ef23143a01bb"
      },
      "source": [
        "# Getting to the source folder\n",
        "\n",
        "source_folder = r'/gdrive/My Drive/Datasets-2'\n",
        "print_dir_contents(source_folder)"
      ],
      "execution_count": 9,
      "outputs": [
        {
          "output_type": "stream",
          "text": [
            "Contents of Folder: '/gdrive/My Drive/Datasets-2':\n",
            "\tAppliances.json\n",
            "\tDeepfake-images V2.zip\n",
            "\tallfake.png\n",
            "\tdeepfake-video.jpg\n"
          ],
          "name": "stdout"
        }
      ]
    },
    {
      "cell_type": "markdown",
      "metadata": {
        "id": "Mh3GMNn0rhuB"
      },
      "source": [
        "### Importing Dataset Into Pandas"
      ]
    },
    {
      "cell_type": "code",
      "metadata": {
        "id": "4D4F2aaJqWRS"
      },
      "source": [
        "# Setting zip path and filename\n",
        "\n",
        "file_path = '/gdrive/My Drive/Datasets-2/Appliances.json'\n",
        "fname = 'Appliances.json'"
      ],
      "execution_count": 10,
      "outputs": []
    },
    {
      "cell_type": "code",
      "metadata": {
        "colab": {
          "base_uri": "https://localhost:8080/",
          "height": 306
        },
        "id": "Ch1FsPTcquEF",
        "outputId": "8877880c-8591-47dc-a430-5d16e4d7da87"
      },
      "source": [
        "# Importing the json into pandas\n",
        "\n",
        "appliances_df = pd.read_json(file_path, lines = True)\n",
        "print(appliances_df.shape)\n",
        "appliances_df.head()"
      ],
      "execution_count": 11,
      "outputs": [
        {
          "output_type": "stream",
          "text": [
            "(602777, 12)\n"
          ],
          "name": "stdout"
        },
        {
          "output_type": "execute_result",
          "data": {
            "text/html": [
              "<div>\n",
              "<style scoped>\n",
              "    .dataframe tbody tr th:only-of-type {\n",
              "        vertical-align: middle;\n",
              "    }\n",
              "\n",
              "    .dataframe tbody tr th {\n",
              "        vertical-align: top;\n",
              "    }\n",
              "\n",
              "    .dataframe thead th {\n",
              "        text-align: right;\n",
              "    }\n",
              "</style>\n",
              "<table border=\"1\" class=\"dataframe\">\n",
              "  <thead>\n",
              "    <tr style=\"text-align: right;\">\n",
              "      <th></th>\n",
              "      <th>overall</th>\n",
              "      <th>vote</th>\n",
              "      <th>verified</th>\n",
              "      <th>reviewTime</th>\n",
              "      <th>reviewerID</th>\n",
              "      <th>asin</th>\n",
              "      <th>style</th>\n",
              "      <th>reviewerName</th>\n",
              "      <th>reviewText</th>\n",
              "      <th>summary</th>\n",
              "      <th>unixReviewTime</th>\n",
              "      <th>image</th>\n",
              "    </tr>\n",
              "  </thead>\n",
              "  <tbody>\n",
              "    <tr>\n",
              "      <th>0</th>\n",
              "      <td>5</td>\n",
              "      <td>2</td>\n",
              "      <td>False</td>\n",
              "      <td>11 27, 2013</td>\n",
              "      <td>A3NHUQ33CFH3VM</td>\n",
              "      <td>1118461304</td>\n",
              "      <td>{'Format:': ' Hardcover'}</td>\n",
              "      <td>Greeny</td>\n",
              "      <td>Not one thing in this book seemed an obvious o...</td>\n",
              "      <td>Clear on what leads to innovation</td>\n",
              "      <td>1385510400</td>\n",
              "      <td>NaN</td>\n",
              "    </tr>\n",
              "    <tr>\n",
              "      <th>1</th>\n",
              "      <td>5</td>\n",
              "      <td>NaN</td>\n",
              "      <td>False</td>\n",
              "      <td>11 1, 2013</td>\n",
              "      <td>A3SK6VNBQDNBJE</td>\n",
              "      <td>1118461304</td>\n",
              "      <td>{'Format:': ' Kindle Edition'}</td>\n",
              "      <td>Leif C. Ulstrup</td>\n",
              "      <td>I have enjoyed Dr. Alan Gregerman's weekly blo...</td>\n",
              "      <td>Becoming more innovative by opening yourself t...</td>\n",
              "      <td>1383264000</td>\n",
              "      <td>NaN</td>\n",
              "    </tr>\n",
              "    <tr>\n",
              "      <th>2</th>\n",
              "      <td>5</td>\n",
              "      <td>NaN</td>\n",
              "      <td>False</td>\n",
              "      <td>10 10, 2013</td>\n",
              "      <td>A3SOFHUR27FO3K</td>\n",
              "      <td>1118461304</td>\n",
              "      <td>{'Format:': ' Hardcover'}</td>\n",
              "      <td>Harry Gilbert Miller III</td>\n",
              "      <td>Alan Gregerman believes that innovation comes ...</td>\n",
              "      <td>The World from Different Perspectives</td>\n",
              "      <td>1381363200</td>\n",
              "      <td>NaN</td>\n",
              "    </tr>\n",
              "    <tr>\n",
              "      <th>3</th>\n",
              "      <td>5</td>\n",
              "      <td>NaN</td>\n",
              "      <td>False</td>\n",
              "      <td>10 9, 2013</td>\n",
              "      <td>A1HOG1PYCAE157</td>\n",
              "      <td>1118461304</td>\n",
              "      <td>{'Format:': ' Hardcover'}</td>\n",
              "      <td>Rebecca Ripley</td>\n",
              "      <td>Alan Gregerman is a smart, funny, entertaining...</td>\n",
              "      <td>Strangers are Your New Best Friends</td>\n",
              "      <td>1381276800</td>\n",
              "      <td>NaN</td>\n",
              "    </tr>\n",
              "    <tr>\n",
              "      <th>4</th>\n",
              "      <td>5</td>\n",
              "      <td>10</td>\n",
              "      <td>False</td>\n",
              "      <td>09 7, 2013</td>\n",
              "      <td>A26JGAM6GZMM4V</td>\n",
              "      <td>1118461304</td>\n",
              "      <td>{'Format:': ' Hardcover'}</td>\n",
              "      <td>Robert Morris</td>\n",
              "      <td>As I began to read this book, I was again remi...</td>\n",
              "      <td>How and why it is imperative to engage, learn ...</td>\n",
              "      <td>1378512000</td>\n",
              "      <td>NaN</td>\n",
              "    </tr>\n",
              "  </tbody>\n",
              "</table>\n",
              "</div>"
            ],
            "text/plain": [
              "   overall vote  ...  unixReviewTime image\n",
              "0        5    2  ...      1385510400   NaN\n",
              "1        5  NaN  ...      1383264000   NaN\n",
              "2        5  NaN  ...      1381363200   NaN\n",
              "3        5  NaN  ...      1381276800   NaN\n",
              "4        5   10  ...      1378512000   NaN\n",
              "\n",
              "[5 rows x 12 columns]"
            ]
          },
          "metadata": {
            "tags": []
          },
          "execution_count": 11
        }
      ]
    },
    {
      "cell_type": "code",
      "metadata": {
        "colab": {
          "base_uri": "https://localhost:8080/"
        },
        "id": "K5Kqnx3Sq28B",
        "outputId": "5d3781b1-17f5-461e-99aa-a946eea2be53"
      },
      "source": [
        "# Checking for null values....since we can see them already in several columns\n",
        "\n",
        "appliances_df.isna().sum()"
      ],
      "execution_count": 12,
      "outputs": [
        {
          "output_type": "execute_result",
          "data": {
            "text/plain": [
              "overall                0\n",
              "vote              537515\n",
              "verified               0\n",
              "reviewTime             0\n",
              "reviewerID             0\n",
              "asin                   0\n",
              "style             464804\n",
              "reviewerName          15\n",
              "reviewText           324\n",
              "summary              128\n",
              "unixReviewTime         0\n",
              "image             593519\n",
              "dtype: int64"
            ]
          },
          "metadata": {
            "tags": []
          },
          "execution_count": 12
        }
      ]
    },
    {
      "cell_type": "code",
      "metadata": {
        "id": "Yf97Rfd4rVQZ"
      },
      "source": [
        "# We can get rid of most of these columns since they aren't relevant to this project\n",
        "\n",
        "#drop_columns = ['overall', 'vote', 'verified', 'reviewTime', 'reviewerID',\n",
        "#                'asin', 'style', 'unixReviewTime', 'image', 'reviewerName']\n",
        "\n",
        "#appliances_df.drop(drop_columns, axis = 1, inplace = True)\n",
        "\n",
        "#print(appliances_df.shape)\n",
        "#appliances_df.head()"
      ],
      "execution_count": 13,
      "outputs": []
    },
    {
      "cell_type": "markdown",
      "metadata": {
        "id": "As0N8SJOrcW6"
      },
      "source": [
        "> Since most of these columns don't affect the project at all, we can get rid of most.  Originally, we kept the summary column around, but the runtime of certain preprocessing aspects has been very long and we're going to drop that as well for now for the sake of time and revisit this down the line. "
      ]
    },
    {
      "cell_type": "code",
      "metadata": {
        "colab": {
          "base_uri": "https://localhost:8080/",
          "height": 204
        },
        "id": "Mt9h7Q_FE_TG",
        "outputId": "3ee89238-3e2f-433b-8c54-aaad9c566bf2"
      },
      "source": [
        "reviews_df = appliances_df['reviewText']\n",
        "reviews_df = pd.DataFrame(reviews_df)\n",
        "reviews_df.head()"
      ],
      "execution_count": 14,
      "outputs": [
        {
          "output_type": "execute_result",
          "data": {
            "text/html": [
              "<div>\n",
              "<style scoped>\n",
              "    .dataframe tbody tr th:only-of-type {\n",
              "        vertical-align: middle;\n",
              "    }\n",
              "\n",
              "    .dataframe tbody tr th {\n",
              "        vertical-align: top;\n",
              "    }\n",
              "\n",
              "    .dataframe thead th {\n",
              "        text-align: right;\n",
              "    }\n",
              "</style>\n",
              "<table border=\"1\" class=\"dataframe\">\n",
              "  <thead>\n",
              "    <tr style=\"text-align: right;\">\n",
              "      <th></th>\n",
              "      <th>reviewText</th>\n",
              "    </tr>\n",
              "  </thead>\n",
              "  <tbody>\n",
              "    <tr>\n",
              "      <th>0</th>\n",
              "      <td>Not one thing in this book seemed an obvious o...</td>\n",
              "    </tr>\n",
              "    <tr>\n",
              "      <th>1</th>\n",
              "      <td>I have enjoyed Dr. Alan Gregerman's weekly blo...</td>\n",
              "    </tr>\n",
              "    <tr>\n",
              "      <th>2</th>\n",
              "      <td>Alan Gregerman believes that innovation comes ...</td>\n",
              "    </tr>\n",
              "    <tr>\n",
              "      <th>3</th>\n",
              "      <td>Alan Gregerman is a smart, funny, entertaining...</td>\n",
              "    </tr>\n",
              "    <tr>\n",
              "      <th>4</th>\n",
              "      <td>As I began to read this book, I was again remi...</td>\n",
              "    </tr>\n",
              "  </tbody>\n",
              "</table>\n",
              "</div>"
            ],
            "text/plain": [
              "                                          reviewText\n",
              "0  Not one thing in this book seemed an obvious o...\n",
              "1  I have enjoyed Dr. Alan Gregerman's weekly blo...\n",
              "2  Alan Gregerman believes that innovation comes ...\n",
              "3  Alan Gregerman is a smart, funny, entertaining...\n",
              "4  As I began to read this book, I was again remi..."
            ]
          },
          "metadata": {
            "tags": []
          },
          "execution_count": 14
        }
      ]
    },
    {
      "cell_type": "markdown",
      "metadata": {
        "id": "1_e9ILTNrxzT"
      },
      "source": [
        "## Scrubbing"
      ]
    },
    {
      "cell_type": "markdown",
      "metadata": {
        "id": "DNwT20ejr1s4"
      },
      "source": [
        "### Null Values"
      ]
    },
    {
      "cell_type": "code",
      "metadata": {
        "colab": {
          "base_uri": "https://localhost:8080/"
        },
        "id": "Iy4kUCbarw-Y",
        "outputId": "13116943-2c72-47e8-a512-6d27e3b5dff0"
      },
      "source": [
        "# Let's check the null values again\n",
        "\n",
        "reviews_df.isna().sum()"
      ],
      "execution_count": 15,
      "outputs": [
        {
          "output_type": "execute_result",
          "data": {
            "text/plain": [
              "reviewText    324\n",
              "dtype: int64"
            ]
          },
          "metadata": {
            "tags": []
          },
          "execution_count": 15
        }
      ]
    },
    {
      "cell_type": "code",
      "metadata": {
        "colab": {
          "base_uri": "https://localhost:8080/"
        },
        "id": "WlKDN9v5r4u_",
        "outputId": "dce68ec2-babd-4879-ed19-f17f2f565bde"
      },
      "source": [
        "# We can drop the rows with null values since they represent a very small percentage of data\n",
        "# Also...can't do much with ones that don't have reviews.  \n",
        "\n",
        "reviews_df.dropna(inplace = True)\n",
        "reviews_df.isna().sum()"
      ],
      "execution_count": 16,
      "outputs": [
        {
          "output_type": "execute_result",
          "data": {
            "text/plain": [
              "reviewText    0\n",
              "dtype: int64"
            ]
          },
          "metadata": {
            "tags": []
          },
          "execution_count": 16
        }
      ]
    },
    {
      "cell_type": "markdown",
      "metadata": {
        "id": "aZU0d7Ngr96Y"
      },
      "source": [
        "### Cleaning Text"
      ]
    },
    {
      "cell_type": "code",
      "metadata": {
        "id": "X-Cx-a5xr7Ye"
      },
      "source": [
        "# for i in appliances_df['reviewText']:\n",
        "#     print(i)"
      ],
      "execution_count": 17,
      "outputs": []
    },
    {
      "cell_type": "code",
      "metadata": {
        "id": "mjbGd0pLsFEu"
      },
      "source": [
        "reviews_df = clean_text(reviews_df['reviewText'])"
      ],
      "execution_count": 18,
      "outputs": []
    },
    {
      "cell_type": "code",
      "metadata": {
        "colab": {
          "base_uri": "https://localhost:8080/",
          "height": 103
        },
        "id": "Z3fH0zHLsHlN",
        "outputId": "82b3bc56-2e03-43a8-c2e5-cb20c3a6d09f"
      },
      "source": [
        "reviews_df[0]"
      ],
      "execution_count": 19,
      "outputs": [
        {
          "output_type": "execute_result",
          "data": {
            "application/vnd.google.colaboratory.intrinsic+json": {
              "type": "string"
            },
            "text/plain": [
              "\"Not one thing in this book seemed an obvious original thought. However, the clarity with which this author explains how innovation happens is remarkable.Alan Gregerman discusses the meaning of human interactions and the kinds of situations that tend to inspire original and/or clear thinking that leads to innovation. These things include how people communicate in certain situations such as when they are outside of their normal patterns.Gregerman identifies the ingredients that make innovation more likely. This includes people being compelled to interact when they normally wouldn't, leading to serendipity. Sometimes the phenomenon will occur through collaboration, and sometimes by chance such as when an individual is away from home on travel.I recommend this book for its common sense, its truth and the apparent mastery of the subject by the author.\""
            ]
          },
          "metadata": {
            "tags": []
          },
          "execution_count": 19
        }
      ]
    },
    {
      "cell_type": "code",
      "metadata": {
        "colab": {
          "base_uri": "https://localhost:8080/"
        },
        "id": "0lG0jdx1sLPF",
        "outputId": "a3b4b41a-bf44-4222-eb57-051a53009131"
      },
      "source": [
        "reviews_df.head()"
      ],
      "execution_count": 20,
      "outputs": [
        {
          "output_type": "execute_result",
          "data": {
            "text/plain": [
              "0    Not one thing in this book seemed an obvious o...\n",
              "1    I have enjoyed Dr. Alan Gregerman's weekly blo...\n",
              "2    Alan Gregerman believes that innovation comes ...\n",
              "3    Alan Gregerman is a smart, funny, entertaining...\n",
              "4    As I began to read this book, I was again remi...\n",
              "Name: reviewText, dtype: object"
            ]
          },
          "metadata": {
            "tags": []
          },
          "execution_count": 20
        }
      ]
    },
    {
      "cell_type": "markdown",
      "metadata": {
        "id": "_nIzYmSGsPOD"
      },
      "source": [
        "### Text Preprocessing"
      ]
    },
    {
      "cell_type": "markdown",
      "metadata": {
        "id": "bwTrMUsQsSl2"
      },
      "source": [
        "#### Tokenizing"
      ]
    },
    {
      "cell_type": "code",
      "metadata": {
        "id": "bW9PWa0WsOcl"
      },
      "source": [
        "# Createa a function to tokenize \n",
        "\n",
        "def tokenize_words(text):\n",
        "    # make everything lowercase \n",
        "    text = text.lower()\n",
        "    \n",
        "    # Tokenize\n",
        "    tokenizer = RegexpTokenizer(r'\\w+')\n",
        "    tokens = tokenizer.tokenize(text)\n",
        "    \n",
        "    # filter out stop words for now\n",
        "    filtered_words = filter(lambda token: token not in stopwords.words('english'), tokens)\n",
        "    \n",
        "    return \" \".join(filtered_words)"
      ],
      "execution_count": 21,
      "outputs": []
    },
    {
      "cell_type": "code",
      "metadata": {
        "colab": {
          "base_uri": "https://localhost:8080/",
          "height": 86
        },
        "id": "mK9Kvtg6sVwV",
        "outputId": "3518ac44-959e-45cb-b296-5d733f9134a0"
      },
      "source": [
        "# Testing function\n",
        "\n",
        "tokenize_words(reviews_df[0])"
      ],
      "execution_count": 22,
      "outputs": [
        {
          "output_type": "execute_result",
          "data": {
            "application/vnd.google.colaboratory.intrinsic+json": {
              "type": "string"
            },
            "text/plain": [
              "'one thing book seemed obvious original thought however clarity author explains innovation happens remarkable alan gregerman discusses meaning human interactions kinds situations tend inspire original clear thinking leads innovation things include people communicate certain situations outside normal patterns gregerman identifies ingredients make innovation likely includes people compelled interact normally leading serendipity sometimes phenomenon occur collaboration sometimes chance individual away home travel recommend book common sense truth apparent mastery subject author'"
            ]
          },
          "metadata": {
            "tags": []
          },
          "execution_count": 22
        }
      ]
    },
    {
      "cell_type": "code",
      "metadata": {
        "colab": {
          "base_uri": "https://localhost:8080/"
        },
        "id": "cmlFWGJOsXuE",
        "outputId": "b7c4cff2-4616-42aa-e3eb-6f31aceb3f3d"
      },
      "source": [
        "reviews_df = reviews_df.apply(lambda x: tokenize_words(x))\n",
        "reviews_df.head()"
      ],
      "execution_count": 23,
      "outputs": [
        {
          "output_type": "execute_result",
          "data": {
            "text/plain": [
              "0    one thing book seemed obvious original thought...\n",
              "1    enjoyed dr alan gregerman weekly blog two prev...\n",
              "2    alan gregerman believes innovation comes viewi...\n",
              "3    alan gregerman smart funny entertaining writer...\n",
              "4    began read book reminded deceptively complicat...\n",
              "Name: reviewText, dtype: object"
            ]
          },
          "metadata": {
            "tags": []
          },
          "execution_count": 23
        }
      ]
    },
    {
      "cell_type": "code",
      "metadata": {
        "id": "vOp0XMfZsljF"
      },
      "source": [
        ""
      ],
      "execution_count": 23,
      "outputs": []
    },
    {
      "cell_type": "markdown",
      "metadata": {
        "id": "WNixVlJmsn8P"
      },
      "source": [
        "## Data Exploration"
      ]
    },
    {
      "cell_type": "markdown",
      "metadata": {
        "id": "hehwPlMPsrNe"
      },
      "source": [
        "### Basic NLP"
      ]
    },
    {
      "cell_type": "code",
      "metadata": {
        "id": "9aEv0Bfzsp8j"
      },
      "source": [
        ""
      ],
      "execution_count": 23,
      "outputs": []
    },
    {
      "cell_type": "code",
      "metadata": {
        "id": "bMhyJCKWsy5t"
      },
      "source": [
        ""
      ],
      "execution_count": 23,
      "outputs": []
    },
    {
      "cell_type": "code",
      "metadata": {
        "id": "WKXc-5YXsy__"
      },
      "source": [
        ""
      ],
      "execution_count": 23,
      "outputs": []
    },
    {
      "cell_type": "code",
      "metadata": {
        "id": "9rLe8snjszDz"
      },
      "source": [
        ""
      ],
      "execution_count": 23,
      "outputs": []
    },
    {
      "cell_type": "code",
      "metadata": {
        "id": "9FemBYRwszJI"
      },
      "source": [
        ""
      ],
      "execution_count": 23,
      "outputs": []
    },
    {
      "cell_type": "markdown",
      "metadata": {
        "id": "8CsNDqC9stkV"
      },
      "source": [
        "## Modeling"
      ]
    },
    {
      "cell_type": "code",
      "metadata": {
        "id": "gjufMECrswlq"
      },
      "source": [
        ""
      ],
      "execution_count": 23,
      "outputs": []
    },
    {
      "cell_type": "code",
      "metadata": {
        "id": "5DRJkmqbsyBc"
      },
      "source": [
        ""
      ],
      "execution_count": 23,
      "outputs": []
    },
    {
      "cell_type": "code",
      "metadata": {
        "id": "MKxwzRRssyHr"
      },
      "source": [
        ""
      ],
      "execution_count": 23,
      "outputs": []
    },
    {
      "cell_type": "code",
      "metadata": {
        "id": "ac77QCMYsyLZ"
      },
      "source": [
        ""
      ],
      "execution_count": 23,
      "outputs": []
    },
    {
      "cell_type": "code",
      "metadata": {
        "id": "QXjPds-xsyRh"
      },
      "source": [
        ""
      ],
      "execution_count": 23,
      "outputs": []
    }
  ]
}