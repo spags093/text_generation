{
 "cells": [
  {
   "cell_type": "markdown",
   "metadata": {},
   "source": [
    "# Text Generation Project\n"
   ]
  },
  {
   "cell_type": "markdown",
   "metadata": {},
   "source": [
    "The runtime on several of these cells is becoming wayyy too long due to the size of the dataset.  We'll have to transition the notebook over to google colab."
   ]
  },
  {
   "cell_type": "markdown",
   "metadata": {},
   "source": [
    "## Abstract"
   ]
  },
  {
   "cell_type": "markdown",
   "metadata": {},
   "source": [
    "<b> Write an abstract here, dude. </b>"
   ]
  },
  {
   "cell_type": "markdown",
   "metadata": {},
   "source": [
    "## Introduction"
   ]
  },
  {
   "cell_type": "markdown",
   "metadata": {},
   "source": [
    "In this project, we'll be building a text generator that will be able to generate fake Amazon product reviews that will, hopefully, be indistinguishable from normal, everyday reviews left by actual human beings.  This is, by no means, meant to be for fraudulent uses.  This is an excercise in generating believable text and we were fortunate enough to have a large dataset of Amazon reviews to experiement with. "
   ]
  },
  {
   "cell_type": "markdown",
   "metadata": {},
   "source": [
    "### Imports"
   ]
  },
  {
   "cell_type": "code",
   "execution_count": 1,
   "metadata": {
    "ExecuteTime": {
     "end_time": "2021-02-05T17:43:15.533279Z",
     "start_time": "2021-02-05T17:43:09.227522Z"
    }
   },
   "outputs": [
    {
     "name": "stderr",
     "output_type": "stream",
     "text": [
      "\n",
      "Bad key \"text.kerning_factor\" on line 4 in\n",
      "/Users/spags/opt/anaconda3/envs/learn-env/lib/python3.6/site-packages/matplotlib/mpl-data/stylelib/_classic_test_patch.mplstyle.\n",
      "You probably need to get an updated matplotlibrc file from\n",
      "https://github.com/matplotlib/matplotlib/blob/v3.1.3/matplotlibrc.template\n",
      "or from the matplotlib source distribution\n"
     ]
    }
   ],
   "source": [
    "# The usuals\n",
    "import pandas as pd\n",
    "import numpy as np\n",
    "import matplotlib.pyplot as plt\n",
    "%matplotlib inline\n",
    "import seaborn as sns\n",
    "import sys\n",
    "import re\n",
    "\n",
    "# NLTK stuff\n",
    "from nltk.tokenize import RegexpTokenizer\n",
    "from nltk.corpus import stopwords\n",
    "\n",
    "# Tensorflow stuff\n",
    "from tensorflow.keras.models import Sequential\n",
    "from tensorflow.keras.layers import Dense, Dropout, LSTM\n",
    "from tensorflow.python.keras import utils\n",
    "from tensorflow.keras.callbacks import ModelCheckpoint\n",
    "\n"
   ]
  },
  {
   "cell_type": "markdown",
   "metadata": {},
   "source": [
    "### Functions"
   ]
  },
  {
   "cell_type": "code",
   "execution_count": 2,
   "metadata": {
    "ExecuteTime": {
     "end_time": "2021-02-05T17:43:15.554561Z",
     "start_time": "2021-02-05T17:43:15.535857Z"
    }
   },
   "outputs": [],
   "source": [
    "# NLP Functions\n",
    "\n",
    "def remove_url(text):\n",
    "    url = re.compile(r'https?://\\S+|www\\.\\S+')\n",
    "    return url.sub(r\"\", text)\n",
    "\n",
    "\n",
    "def remove_n(text):\n",
    "    n = re.compile(r'\\n')\n",
    "    return n.sub(r'', text)\n",
    "\n",
    "\n",
    "def remove_emoji(string):\n",
    "    emoji_pattern = re.compile(pattern = \n",
    "    \"[\"\n",
    "    u\"\\U0001F600-\\U0001F64F\"  # emoticons\n",
    "    u\"\\U0001F300-\\U0001F5FF\"  # symbols & pictographs\n",
    "    u\"\\U0001F680-\\U0001F6FF\"  # transport & map symbols\n",
    "    u\"\\U0001F1E0-\\U0001F1FF\"  # flags (iOS)\n",
    "    \"]+\",\n",
    "    flags = re.UNICODE\n",
    "    )\n",
    "    return emoji_pattern.sub(r\"\", string)\n",
    "\n",
    "\n",
    "def clean_text(text_column):\n",
    "    text_column = text_column.apply(lambda x: remove_url(x))\n",
    "    text_column = text_column.apply(lambda x: remove_n(x))\n",
    "    text_column = text_column.apply(lambda x: remove_emoji(x))\n",
    "    return text_column"
   ]
  },
  {
   "cell_type": "code",
   "execution_count": null,
   "metadata": {},
   "outputs": [],
   "source": []
  },
  {
   "cell_type": "markdown",
   "metadata": {},
   "source": [
    "## Obtain"
   ]
  },
  {
   "cell_type": "code",
   "execution_count": 3,
   "metadata": {
    "ExecuteTime": {
     "end_time": "2021-02-05T17:43:24.587594Z",
     "start_time": "2021-02-05T17:43:15.557969Z"
    }
   },
   "outputs": [
    {
     "name": "stdout",
     "output_type": "stream",
     "text": [
      "(602777, 12)\n"
     ]
    },
    {
     "data": {
      "text/html": [
       "<div>\n",
       "<style scoped>\n",
       "    .dataframe tbody tr th:only-of-type {\n",
       "        vertical-align: middle;\n",
       "    }\n",
       "\n",
       "    .dataframe tbody tr th {\n",
       "        vertical-align: top;\n",
       "    }\n",
       "\n",
       "    .dataframe thead th {\n",
       "        text-align: right;\n",
       "    }\n",
       "</style>\n",
       "<table border=\"1\" class=\"dataframe\">\n",
       "  <thead>\n",
       "    <tr style=\"text-align: right;\">\n",
       "      <th></th>\n",
       "      <th>overall</th>\n",
       "      <th>vote</th>\n",
       "      <th>verified</th>\n",
       "      <th>reviewTime</th>\n",
       "      <th>reviewerID</th>\n",
       "      <th>asin</th>\n",
       "      <th>style</th>\n",
       "      <th>reviewerName</th>\n",
       "      <th>reviewText</th>\n",
       "      <th>summary</th>\n",
       "      <th>unixReviewTime</th>\n",
       "      <th>image</th>\n",
       "    </tr>\n",
       "  </thead>\n",
       "  <tbody>\n",
       "    <tr>\n",
       "      <th>0</th>\n",
       "      <td>5</td>\n",
       "      <td>2</td>\n",
       "      <td>False</td>\n",
       "      <td>11 27, 2013</td>\n",
       "      <td>A3NHUQ33CFH3VM</td>\n",
       "      <td>1118461304</td>\n",
       "      <td>{'Format:': ' Hardcover'}</td>\n",
       "      <td>Greeny</td>\n",
       "      <td>Not one thing in this book seemed an obvious o...</td>\n",
       "      <td>Clear on what leads to innovation</td>\n",
       "      <td>1385510400</td>\n",
       "      <td>NaN</td>\n",
       "    </tr>\n",
       "    <tr>\n",
       "      <th>1</th>\n",
       "      <td>5</td>\n",
       "      <td>NaN</td>\n",
       "      <td>False</td>\n",
       "      <td>11 1, 2013</td>\n",
       "      <td>A3SK6VNBQDNBJE</td>\n",
       "      <td>1118461304</td>\n",
       "      <td>{'Format:': ' Kindle Edition'}</td>\n",
       "      <td>Leif C. Ulstrup</td>\n",
       "      <td>I have enjoyed Dr. Alan Gregerman's weekly blo...</td>\n",
       "      <td>Becoming more innovative by opening yourself t...</td>\n",
       "      <td>1383264000</td>\n",
       "      <td>NaN</td>\n",
       "    </tr>\n",
       "    <tr>\n",
       "      <th>2</th>\n",
       "      <td>5</td>\n",
       "      <td>NaN</td>\n",
       "      <td>False</td>\n",
       "      <td>10 10, 2013</td>\n",
       "      <td>A3SOFHUR27FO3K</td>\n",
       "      <td>1118461304</td>\n",
       "      <td>{'Format:': ' Hardcover'}</td>\n",
       "      <td>Harry Gilbert Miller III</td>\n",
       "      <td>Alan Gregerman believes that innovation comes ...</td>\n",
       "      <td>The World from Different Perspectives</td>\n",
       "      <td>1381363200</td>\n",
       "      <td>NaN</td>\n",
       "    </tr>\n",
       "    <tr>\n",
       "      <th>3</th>\n",
       "      <td>5</td>\n",
       "      <td>NaN</td>\n",
       "      <td>False</td>\n",
       "      <td>10 9, 2013</td>\n",
       "      <td>A1HOG1PYCAE157</td>\n",
       "      <td>1118461304</td>\n",
       "      <td>{'Format:': ' Hardcover'}</td>\n",
       "      <td>Rebecca Ripley</td>\n",
       "      <td>Alan Gregerman is a smart, funny, entertaining...</td>\n",
       "      <td>Strangers are Your New Best Friends</td>\n",
       "      <td>1381276800</td>\n",
       "      <td>NaN</td>\n",
       "    </tr>\n",
       "    <tr>\n",
       "      <th>4</th>\n",
       "      <td>5</td>\n",
       "      <td>10</td>\n",
       "      <td>False</td>\n",
       "      <td>09 7, 2013</td>\n",
       "      <td>A26JGAM6GZMM4V</td>\n",
       "      <td>1118461304</td>\n",
       "      <td>{'Format:': ' Hardcover'}</td>\n",
       "      <td>Robert Morris</td>\n",
       "      <td>As I began to read this book, I was again remi...</td>\n",
       "      <td>How and why it is imperative to engage, learn ...</td>\n",
       "      <td>1378512000</td>\n",
       "      <td>NaN</td>\n",
       "    </tr>\n",
       "  </tbody>\n",
       "</table>\n",
       "</div>"
      ],
      "text/plain": [
       "   overall vote  verified   reviewTime      reviewerID        asin  \\\n",
       "0        5    2     False  11 27, 2013  A3NHUQ33CFH3VM  1118461304   \n",
       "1        5  NaN     False   11 1, 2013  A3SK6VNBQDNBJE  1118461304   \n",
       "2        5  NaN     False  10 10, 2013  A3SOFHUR27FO3K  1118461304   \n",
       "3        5  NaN     False   10 9, 2013  A1HOG1PYCAE157  1118461304   \n",
       "4        5   10     False   09 7, 2013  A26JGAM6GZMM4V  1118461304   \n",
       "\n",
       "                            style              reviewerName  \\\n",
       "0       {'Format:': ' Hardcover'}                    Greeny   \n",
       "1  {'Format:': ' Kindle Edition'}           Leif C. Ulstrup   \n",
       "2       {'Format:': ' Hardcover'}  Harry Gilbert Miller III   \n",
       "3       {'Format:': ' Hardcover'}            Rebecca Ripley   \n",
       "4       {'Format:': ' Hardcover'}             Robert Morris   \n",
       "\n",
       "                                          reviewText  \\\n",
       "0  Not one thing in this book seemed an obvious o...   \n",
       "1  I have enjoyed Dr. Alan Gregerman's weekly blo...   \n",
       "2  Alan Gregerman believes that innovation comes ...   \n",
       "3  Alan Gregerman is a smart, funny, entertaining...   \n",
       "4  As I began to read this book, I was again remi...   \n",
       "\n",
       "                                             summary  unixReviewTime image  \n",
       "0                  Clear on what leads to innovation      1385510400   NaN  \n",
       "1  Becoming more innovative by opening yourself t...      1383264000   NaN  \n",
       "2              The World from Different Perspectives      1381363200   NaN  \n",
       "3                Strangers are Your New Best Friends      1381276800   NaN  \n",
       "4  How and why it is imperative to engage, learn ...      1378512000   NaN  "
      ]
     },
     "execution_count": 3,
     "metadata": {},
     "output_type": "execute_result"
    }
   ],
   "source": [
    "appliances_df = pd.read_json('Appliances.json', lines = True)\n",
    "print(appliances_df.shape)\n",
    "appliances_df.head()"
   ]
  },
  {
   "cell_type": "code",
   "execution_count": 4,
   "metadata": {
    "ExecuteTime": {
     "end_time": "2021-02-05T17:43:25.056823Z",
     "start_time": "2021-02-05T17:43:24.590993Z"
    }
   },
   "outputs": [
    {
     "data": {
      "text/plain": [
       "overall                0\n",
       "vote              537515\n",
       "verified               0\n",
       "reviewTime             0\n",
       "reviewerID             0\n",
       "asin                   0\n",
       "style             464804\n",
       "reviewerName          15\n",
       "reviewText           324\n",
       "summary              128\n",
       "unixReviewTime         0\n",
       "image             593519\n",
       "dtype: int64"
      ]
     },
     "execution_count": 4,
     "metadata": {},
     "output_type": "execute_result"
    }
   ],
   "source": [
    "# Checking for null values....since we can see them already in several columns\n",
    "\n",
    "appliances_df.isna().sum()"
   ]
  },
  {
   "cell_type": "code",
   "execution_count": 5,
   "metadata": {
    "ExecuteTime": {
     "end_time": "2021-02-05T17:43:25.110159Z",
     "start_time": "2021-02-05T17:43:25.059298Z"
    }
   },
   "outputs": [
    {
     "name": "stdout",
     "output_type": "stream",
     "text": [
      "(602777, 2)\n"
     ]
    },
    {
     "data": {
      "text/html": [
       "<div>\n",
       "<style scoped>\n",
       "    .dataframe tbody tr th:only-of-type {\n",
       "        vertical-align: middle;\n",
       "    }\n",
       "\n",
       "    .dataframe tbody tr th {\n",
       "        vertical-align: top;\n",
       "    }\n",
       "\n",
       "    .dataframe thead th {\n",
       "        text-align: right;\n",
       "    }\n",
       "</style>\n",
       "<table border=\"1\" class=\"dataframe\">\n",
       "  <thead>\n",
       "    <tr style=\"text-align: right;\">\n",
       "      <th></th>\n",
       "      <th>reviewText</th>\n",
       "      <th>summary</th>\n",
       "    </tr>\n",
       "  </thead>\n",
       "  <tbody>\n",
       "    <tr>\n",
       "      <th>0</th>\n",
       "      <td>Not one thing in this book seemed an obvious o...</td>\n",
       "      <td>Clear on what leads to innovation</td>\n",
       "    </tr>\n",
       "    <tr>\n",
       "      <th>1</th>\n",
       "      <td>I have enjoyed Dr. Alan Gregerman's weekly blo...</td>\n",
       "      <td>Becoming more innovative by opening yourself t...</td>\n",
       "    </tr>\n",
       "    <tr>\n",
       "      <th>2</th>\n",
       "      <td>Alan Gregerman believes that innovation comes ...</td>\n",
       "      <td>The World from Different Perspectives</td>\n",
       "    </tr>\n",
       "    <tr>\n",
       "      <th>3</th>\n",
       "      <td>Alan Gregerman is a smart, funny, entertaining...</td>\n",
       "      <td>Strangers are Your New Best Friends</td>\n",
       "    </tr>\n",
       "    <tr>\n",
       "      <th>4</th>\n",
       "      <td>As I began to read this book, I was again remi...</td>\n",
       "      <td>How and why it is imperative to engage, learn ...</td>\n",
       "    </tr>\n",
       "  </tbody>\n",
       "</table>\n",
       "</div>"
      ],
      "text/plain": [
       "                                          reviewText  \\\n",
       "0  Not one thing in this book seemed an obvious o...   \n",
       "1  I have enjoyed Dr. Alan Gregerman's weekly blo...   \n",
       "2  Alan Gregerman believes that innovation comes ...   \n",
       "3  Alan Gregerman is a smart, funny, entertaining...   \n",
       "4  As I began to read this book, I was again remi...   \n",
       "\n",
       "                                             summary  \n",
       "0                  Clear on what leads to innovation  \n",
       "1  Becoming more innovative by opening yourself t...  \n",
       "2              The World from Different Perspectives  \n",
       "3                Strangers are Your New Best Friends  \n",
       "4  How and why it is imperative to engage, learn ...  "
      ]
     },
     "execution_count": 5,
     "metadata": {},
     "output_type": "execute_result"
    }
   ],
   "source": [
    "# We can get rid of most of these columns since they aren't relevant to this project\n",
    "\n",
    "drop_columns = ['overall', 'vote', 'verified', 'reviewTime', 'reviewerID',\n",
    "                'asin', 'style', 'unixReviewTime', 'image', 'reviewerName']\n",
    "\n",
    "appliances_df.drop(drop_columns, axis = 1, inplace = True)\n",
    "\n",
    "print(appliances_df.shape)\n",
    "appliances_df.head()"
   ]
  },
  {
   "cell_type": "markdown",
   "metadata": {},
   "source": [
    "#### Summary Column"
   ]
  },
  {
   "cell_type": "code",
   "execution_count": 6,
   "metadata": {
    "ExecuteTime": {
     "end_time": "2021-02-05T17:43:25.117516Z",
     "start_time": "2021-02-05T17:43:25.112623Z"
    }
   },
   "outputs": [],
   "source": [
    "# for i in appliances_df['summary']:\n",
    "#     print(i)"
   ]
  },
  {
   "cell_type": "markdown",
   "metadata": {},
   "source": [
    "> Not really sure what to do with the summary column just yet, so we'll leave this as-is for now. "
   ]
  },
  {
   "cell_type": "markdown",
   "metadata": {},
   "source": [
    "## Scrubbing"
   ]
  },
  {
   "cell_type": "markdown",
   "metadata": {},
   "source": [
    "### Null Values"
   ]
  },
  {
   "cell_type": "code",
   "execution_count": 7,
   "metadata": {
    "ExecuteTime": {
     "end_time": "2021-02-05T17:43:25.259140Z",
     "start_time": "2021-02-05T17:43:25.120001Z"
    }
   },
   "outputs": [
    {
     "data": {
      "text/plain": [
       "reviewText    324\n",
       "summary       128\n",
       "dtype: int64"
      ]
     },
     "execution_count": 7,
     "metadata": {},
     "output_type": "execute_result"
    }
   ],
   "source": [
    "# Let's check the null values again\n",
    "\n",
    "appliances_df.isna().sum()"
   ]
  },
  {
   "cell_type": "code",
   "execution_count": 8,
   "metadata": {
    "ExecuteTime": {
     "end_time": "2021-02-05T17:43:25.579305Z",
     "start_time": "2021-02-05T17:43:25.263374Z"
    }
   },
   "outputs": [
    {
     "data": {
      "text/plain": [
       "reviewText    0\n",
       "summary       0\n",
       "dtype: int64"
      ]
     },
     "execution_count": 8,
     "metadata": {},
     "output_type": "execute_result"
    }
   ],
   "source": [
    "# We can drop the rows with null values since they represent a very small percentage of data\n",
    "# Also...can't do much with ones that don't have reviews.  \n",
    "\n",
    "appliances_df.dropna(inplace = True)\n",
    "appliances_df.isna().sum()"
   ]
  },
  {
   "cell_type": "markdown",
   "metadata": {},
   "source": [
    "### Cleaning Text"
   ]
  },
  {
   "cell_type": "code",
   "execution_count": 9,
   "metadata": {
    "ExecuteTime": {
     "end_time": "2021-02-05T17:43:25.585009Z",
     "start_time": "2021-02-05T17:43:25.581977Z"
    }
   },
   "outputs": [],
   "source": [
    "# for i in appliances_df['reviewText']:\n",
    "#     print(i)"
   ]
  },
  {
   "cell_type": "code",
   "execution_count": 10,
   "metadata": {
    "ExecuteTime": {
     "end_time": "2021-02-05T17:43:36.513656Z",
     "start_time": "2021-02-05T17:43:25.587318Z"
    }
   },
   "outputs": [],
   "source": [
    "# Running several functions for cleaning text\n",
    "\n",
    "appliances_df['reviewText'] = appliances_df['reviewText'].apply(lambda x: remove_url(x))\n",
    "appliances_df['reviewText'] = appliances_df['reviewText'].apply(lambda x: remove_n(x))\n",
    "appliances_df['reviewText'] = appliances_df['reviewText'].apply(lambda x: remove_emoji(x))"
   ]
  },
  {
   "cell_type": "code",
   "execution_count": 11,
   "metadata": {
    "ExecuteTime": {
     "end_time": "2021-02-05T17:43:36.555709Z",
     "start_time": "2021-02-05T17:43:36.515962Z"
    }
   },
   "outputs": [
    {
     "data": {
      "text/plain": [
       "\"Not one thing in this book seemed an obvious original thought. However, the clarity with which this author explains how innovation happens is remarkable.Alan Gregerman discusses the meaning of human interactions and the kinds of situations that tend to inspire original and/or clear thinking that leads to innovation. These things include how people communicate in certain situations such as when they are outside of their normal patterns.Gregerman identifies the ingredients that make innovation more likely. This includes people being compelled to interact when they normally wouldn't, leading to serendipity. Sometimes the phenomenon will occur through collaboration, and sometimes by chance such as when an individual is away from home on travel.I recommend this book for its common sense, its truth and the apparent mastery of the subject by the author.\""
      ]
     },
     "execution_count": 11,
     "metadata": {},
     "output_type": "execute_result"
    }
   ],
   "source": [
    "# Checking to make sure this worked\n",
    "\n",
    "appliances_df['reviewText'][0]"
   ]
  },
  {
   "cell_type": "code",
   "execution_count": 12,
   "metadata": {
    "ExecuteTime": {
     "end_time": "2021-02-05T17:43:40.784736Z",
     "start_time": "2021-02-05T17:43:36.558156Z"
    }
   },
   "outputs": [],
   "source": [
    "appliances_df['summary'] = clean_text(appliances_df['summary'])\n"
   ]
  },
  {
   "cell_type": "code",
   "execution_count": 13,
   "metadata": {
    "ExecuteTime": {
     "end_time": "2021-02-05T17:43:40.793043Z",
     "start_time": "2021-02-05T17:43:40.787252Z"
    }
   },
   "outputs": [
    {
     "data": {
      "text/plain": [
       "'Clear on what leads to innovation'"
      ]
     },
     "execution_count": 13,
     "metadata": {},
     "output_type": "execute_result"
    }
   ],
   "source": [
    "appliances_df['summary'][0]"
   ]
  },
  {
   "cell_type": "code",
   "execution_count": 14,
   "metadata": {
    "ExecuteTime": {
     "end_time": "2021-02-05T17:43:40.808664Z",
     "start_time": "2021-02-05T17:43:40.795476Z"
    }
   },
   "outputs": [
    {
     "data": {
      "text/html": [
       "<div>\n",
       "<style scoped>\n",
       "    .dataframe tbody tr th:only-of-type {\n",
       "        vertical-align: middle;\n",
       "    }\n",
       "\n",
       "    .dataframe tbody tr th {\n",
       "        vertical-align: top;\n",
       "    }\n",
       "\n",
       "    .dataframe thead th {\n",
       "        text-align: right;\n",
       "    }\n",
       "</style>\n",
       "<table border=\"1\" class=\"dataframe\">\n",
       "  <thead>\n",
       "    <tr style=\"text-align: right;\">\n",
       "      <th></th>\n",
       "      <th>reviewText</th>\n",
       "      <th>summary</th>\n",
       "    </tr>\n",
       "  </thead>\n",
       "  <tbody>\n",
       "    <tr>\n",
       "      <th>0</th>\n",
       "      <td>Not one thing in this book seemed an obvious o...</td>\n",
       "      <td>Clear on what leads to innovation</td>\n",
       "    </tr>\n",
       "    <tr>\n",
       "      <th>1</th>\n",
       "      <td>I have enjoyed Dr. Alan Gregerman's weekly blo...</td>\n",
       "      <td>Becoming more innovative by opening yourself t...</td>\n",
       "    </tr>\n",
       "    <tr>\n",
       "      <th>2</th>\n",
       "      <td>Alan Gregerman believes that innovation comes ...</td>\n",
       "      <td>The World from Different Perspectives</td>\n",
       "    </tr>\n",
       "    <tr>\n",
       "      <th>3</th>\n",
       "      <td>Alan Gregerman is a smart, funny, entertaining...</td>\n",
       "      <td>Strangers are Your New Best Friends</td>\n",
       "    </tr>\n",
       "    <tr>\n",
       "      <th>4</th>\n",
       "      <td>As I began to read this book, I was again remi...</td>\n",
       "      <td>How and why it is imperative to engage, learn ...</td>\n",
       "    </tr>\n",
       "  </tbody>\n",
       "</table>\n",
       "</div>"
      ],
      "text/plain": [
       "                                          reviewText  \\\n",
       "0  Not one thing in this book seemed an obvious o...   \n",
       "1  I have enjoyed Dr. Alan Gregerman's weekly blo...   \n",
       "2  Alan Gregerman believes that innovation comes ...   \n",
       "3  Alan Gregerman is a smart, funny, entertaining...   \n",
       "4  As I began to read this book, I was again remi...   \n",
       "\n",
       "                                             summary  \n",
       "0                  Clear on what leads to innovation  \n",
       "1  Becoming more innovative by opening yourself t...  \n",
       "2              The World from Different Perspectives  \n",
       "3                Strangers are Your New Best Friends  \n",
       "4  How and why it is imperative to engage, learn ...  "
      ]
     },
     "execution_count": 14,
     "metadata": {},
     "output_type": "execute_result"
    }
   ],
   "source": [
    "appliances_df.head()"
   ]
  },
  {
   "cell_type": "markdown",
   "metadata": {},
   "source": [
    "### Text Preprocessing"
   ]
  },
  {
   "cell_type": "markdown",
   "metadata": {},
   "source": [
    "#### Tokenizing"
   ]
  },
  {
   "cell_type": "code",
   "execution_count": 18,
   "metadata": {
    "ExecuteTime": {
     "end_time": "2021-02-05T18:59:27.557302Z",
     "start_time": "2021-02-05T18:59:27.551718Z"
    }
   },
   "outputs": [],
   "source": [
    "# Createa a function to tokenize \n",
    "\n",
    "def tokenize_words(text):\n",
    "    # make everything lowercase \n",
    "    text = text.lower()\n",
    "    \n",
    "    # Tokenize\n",
    "    tokenizer = RegexpTokenizer(r'\\w+')\n",
    "    tokens = tokenizer.tokenize(text)\n",
    "    \n",
    "    # filter out stop words for now\n",
    "    filtered_words = filter(lambda token: token not in stopwords.words('english'), tokens)\n",
    "    \n",
    "    return \" \".join(filtered_words)"
   ]
  },
  {
   "cell_type": "code",
   "execution_count": 19,
   "metadata": {
    "ExecuteTime": {
     "end_time": "2021-02-05T18:59:29.717139Z",
     "start_time": "2021-02-05T18:59:29.638004Z"
    }
   },
   "outputs": [
    {
     "data": {
      "text/plain": [
       "'one thing book seemed obvious original thought however clarity author explains innovation happens remarkable alan gregerman discusses meaning human interactions kinds situations tend inspire original clear thinking leads innovation things include people communicate certain situations outside normal patterns gregerman identifies ingredients make innovation likely includes people compelled interact normally leading serendipity sometimes phenomenon occur collaboration sometimes chance individual away home travel recommend book common sense truth apparent mastery subject author'"
      ]
     },
     "execution_count": 19,
     "metadata": {},
     "output_type": "execute_result"
    }
   ],
   "source": [
    "# Testing function\n",
    "\n",
    "tokenize_words(appliances_df['reviewText'][0])"
   ]
  },
  {
   "cell_type": "code",
   "execution_count": 21,
   "metadata": {
    "ExecuteTime": {
     "end_time": "2021-02-05T21:36:40.893530Z",
     "start_time": "2021-02-05T19:00:40.904830Z"
    }
   },
   "outputs": [
    {
     "data": {
      "text/html": [
       "<div>\n",
       "<style scoped>\n",
       "    .dataframe tbody tr th:only-of-type {\n",
       "        vertical-align: middle;\n",
       "    }\n",
       "\n",
       "    .dataframe tbody tr th {\n",
       "        vertical-align: top;\n",
       "    }\n",
       "\n",
       "    .dataframe thead th {\n",
       "        text-align: right;\n",
       "    }\n",
       "</style>\n",
       "<table border=\"1\" class=\"dataframe\">\n",
       "  <thead>\n",
       "    <tr style=\"text-align: right;\">\n",
       "      <th></th>\n",
       "      <th>reviewText</th>\n",
       "      <th>summary</th>\n",
       "    </tr>\n",
       "  </thead>\n",
       "  <tbody>\n",
       "    <tr>\n",
       "      <th>0</th>\n",
       "      <td>Not one thing in this book seemed an obvious o...</td>\n",
       "      <td>Clear on what leads to innovation</td>\n",
       "    </tr>\n",
       "    <tr>\n",
       "      <th>1</th>\n",
       "      <td>I have enjoyed Dr. Alan Gregerman's weekly blo...</td>\n",
       "      <td>Becoming more innovative by opening yourself t...</td>\n",
       "    </tr>\n",
       "    <tr>\n",
       "      <th>2</th>\n",
       "      <td>Alan Gregerman believes that innovation comes ...</td>\n",
       "      <td>The World from Different Perspectives</td>\n",
       "    </tr>\n",
       "    <tr>\n",
       "      <th>3</th>\n",
       "      <td>Alan Gregerman is a smart, funny, entertaining...</td>\n",
       "      <td>Strangers are Your New Best Friends</td>\n",
       "    </tr>\n",
       "    <tr>\n",
       "      <th>4</th>\n",
       "      <td>As I began to read this book, I was again remi...</td>\n",
       "      <td>How and why it is imperative to engage, learn ...</td>\n",
       "    </tr>\n",
       "  </tbody>\n",
       "</table>\n",
       "</div>"
      ],
      "text/plain": [
       "                                          reviewText  \\\n",
       "0  Not one thing in this book seemed an obvious o...   \n",
       "1  I have enjoyed Dr. Alan Gregerman's weekly blo...   \n",
       "2  Alan Gregerman believes that innovation comes ...   \n",
       "3  Alan Gregerman is a smart, funny, entertaining...   \n",
       "4  As I began to read this book, I was again remi...   \n",
       "\n",
       "                                             summary  \n",
       "0                  Clear on what leads to innovation  \n",
       "1  Becoming more innovative by opening yourself t...  \n",
       "2              The World from Different Perspectives  \n",
       "3                Strangers are Your New Best Friends  \n",
       "4  How and why it is imperative to engage, learn ...  "
      ]
     },
     "execution_count": 21,
     "metadata": {},
     "output_type": "execute_result"
    }
   ],
   "source": [
    "for review in appliances_df['reviewText']:\n",
    "    review = tokenize_words(review)\n",
    "    \n",
    "appliances_df.head()"
   ]
  },
  {
   "cell_type": "code",
   "execution_count": 22,
   "metadata": {
    "ExecuteTime": {
     "end_time": "2021-02-06T03:13:54.598957Z",
     "start_time": "2021-02-06T01:23:57.344490Z"
    }
   },
   "outputs": [
    {
     "data": {
      "text/html": [
       "<div>\n",
       "<style scoped>\n",
       "    .dataframe tbody tr th:only-of-type {\n",
       "        vertical-align: middle;\n",
       "    }\n",
       "\n",
       "    .dataframe tbody tr th {\n",
       "        vertical-align: top;\n",
       "    }\n",
       "\n",
       "    .dataframe thead th {\n",
       "        text-align: right;\n",
       "    }\n",
       "</style>\n",
       "<table border=\"1\" class=\"dataframe\">\n",
       "  <thead>\n",
       "    <tr style=\"text-align: right;\">\n",
       "      <th></th>\n",
       "      <th>reviewText</th>\n",
       "      <th>summary</th>\n",
       "    </tr>\n",
       "  </thead>\n",
       "  <tbody>\n",
       "    <tr>\n",
       "      <th>0</th>\n",
       "      <td>one thing book seemed obvious original thought...</td>\n",
       "      <td>Clear on what leads to innovation</td>\n",
       "    </tr>\n",
       "    <tr>\n",
       "      <th>1</th>\n",
       "      <td>enjoyed dr alan gregerman weekly blog two prev...</td>\n",
       "      <td>Becoming more innovative by opening yourself t...</td>\n",
       "    </tr>\n",
       "    <tr>\n",
       "      <th>2</th>\n",
       "      <td>alan gregerman believes innovation comes viewi...</td>\n",
       "      <td>The World from Different Perspectives</td>\n",
       "    </tr>\n",
       "    <tr>\n",
       "      <th>3</th>\n",
       "      <td>alan gregerman smart funny entertaining writer...</td>\n",
       "      <td>Strangers are Your New Best Friends</td>\n",
       "    </tr>\n",
       "    <tr>\n",
       "      <th>4</th>\n",
       "      <td>began read book reminded deceptively complicat...</td>\n",
       "      <td>How and why it is imperative to engage, learn ...</td>\n",
       "    </tr>\n",
       "  </tbody>\n",
       "</table>\n",
       "</div>"
      ],
      "text/plain": [
       "                                          reviewText  \\\n",
       "0  one thing book seemed obvious original thought...   \n",
       "1  enjoyed dr alan gregerman weekly blog two prev...   \n",
       "2  alan gregerman believes innovation comes viewi...   \n",
       "3  alan gregerman smart funny entertaining writer...   \n",
       "4  began read book reminded deceptively complicat...   \n",
       "\n",
       "                                             summary  \n",
       "0                  Clear on what leads to innovation  \n",
       "1  Becoming more innovative by opening yourself t...  \n",
       "2              The World from Different Perspectives  \n",
       "3                Strangers are Your New Best Friends  \n",
       "4  How and why it is imperative to engage, learn ...  "
      ]
     },
     "execution_count": 22,
     "metadata": {},
     "output_type": "execute_result"
    }
   ],
   "source": [
    "appliances_df['reviewText'] = appliances_df['reviewText'].apply(lambda x: tokenize_words(x))\n",
    "appliances_df.head()"
   ]
  },
  {
   "cell_type": "markdown",
   "metadata": {},
   "source": [
    "## Data Exploration"
   ]
  },
  {
   "cell_type": "markdown",
   "metadata": {},
   "source": [
    "### Basic NLP"
   ]
  },
  {
   "cell_type": "code",
   "execution_count": null,
   "metadata": {},
   "outputs": [],
   "source": []
  },
  {
   "cell_type": "code",
   "execution_count": null,
   "metadata": {},
   "outputs": [],
   "source": []
  },
  {
   "cell_type": "code",
   "execution_count": null,
   "metadata": {},
   "outputs": [],
   "source": []
  },
  {
   "cell_type": "code",
   "execution_count": null,
   "metadata": {},
   "outputs": [],
   "source": []
  },
  {
   "cell_type": "code",
   "execution_count": null,
   "metadata": {},
   "outputs": [],
   "source": []
  },
  {
   "cell_type": "markdown",
   "metadata": {},
   "source": [
    "## Modeling"
   ]
  },
  {
   "cell_type": "code",
   "execution_count": null,
   "metadata": {},
   "outputs": [],
   "source": []
  },
  {
   "cell_type": "code",
   "execution_count": null,
   "metadata": {},
   "outputs": [],
   "source": []
  },
  {
   "cell_type": "code",
   "execution_count": null,
   "metadata": {},
   "outputs": [],
   "source": []
  },
  {
   "cell_type": "code",
   "execution_count": null,
   "metadata": {},
   "outputs": [],
   "source": []
  },
  {
   "cell_type": "code",
   "execution_count": null,
   "metadata": {},
   "outputs": [],
   "source": []
  },
  {
   "cell_type": "code",
   "execution_count": null,
   "metadata": {},
   "outputs": [],
   "source": []
  },
  {
   "cell_type": "code",
   "execution_count": null,
   "metadata": {},
   "outputs": [],
   "source": []
  }
 ],
 "metadata": {
  "kernelspec": {
   "display_name": "Python [conda env:learn-env] *",
   "language": "python",
   "name": "conda-env-learn-env-py"
  },
  "language_info": {
   "codemirror_mode": {
    "name": "ipython",
    "version": 3
   },
   "file_extension": ".py",
   "mimetype": "text/x-python",
   "name": "python",
   "nbconvert_exporter": "python",
   "pygments_lexer": "ipython3",
   "version": "3.6.9"
  },
  "toc": {
   "base_numbering": 1,
   "nav_menu": {},
   "number_sections": true,
   "sideBar": true,
   "skip_h1_title": false,
   "title_cell": "Table of Contents",
   "title_sidebar": "Contents",
   "toc_cell": false,
   "toc_position": {},
   "toc_section_display": true,
   "toc_window_display": true
  }
 },
 "nbformat": 4,
 "nbformat_minor": 2
}
